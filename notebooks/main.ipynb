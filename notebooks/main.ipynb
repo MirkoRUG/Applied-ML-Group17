{
 "cells": [
  {
   "cell_type": "code",
   "execution_count": 10,
   "id": "88370bb0",
   "metadata": {},
   "outputs": [],
   "source": [
    "import numpy as np\n",
    "import pandas as pd\n",
    "\n",
    "movies = pd.read_csv('../data.csv')"
   ]
  },
  {
   "cell_type": "code",
   "execution_count": null,
   "id": "f89bb4b6",
   "metadata": {},
   "outputs": [
    {
     "name": "stdout",
     "output_type": "stream",
     "text": [
      "5421 7668\n"
     ]
    }
   ],
   "source": [
    "output = movies.dropna()\n"
   ]
  }
 ],
 "metadata": {
  "language_info": {
   "name": "python"
  }
 },
 "nbformat": 4,
 "nbformat_minor": 5
}
